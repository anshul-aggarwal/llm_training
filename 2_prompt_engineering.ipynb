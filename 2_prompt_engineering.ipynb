{
 "cells": [
  {
   "cell_type": "markdown",
   "id": "ff645645-3aa6-40a7-8b12-42992a4eb0c2",
   "metadata": {},
   "source": [
    "# Prompt Engineering"
   ]
  },
  {
   "cell_type": "code",
   "execution_count": null,
   "id": "c81e9061-b581-4ec7-a8d2-201411afc2de",
   "metadata": {},
   "outputs": [],
   "source": [
    "import os\n",
    "import openai\n",
    "from dotenv import load_dotenv\n",
    "import re\n",
    "\n",
    "load_dotenv()"
   ]
  },
  {
   "cell_type": "code",
   "execution_count": null,
   "id": "419f5f59-2f32-4117-a74e-220bf5a83e7a",
   "metadata": {},
   "outputs": [],
   "source": [
    "openai.api_key = os.getenv(\"OPENAI_API_KEY\")\n",
    "openai.organization = os.getenv(\"OPENAI_ORGANIZATION\")"
   ]
  },
  {
   "cell_type": "code",
   "execution_count": null,
   "id": "b74351e1-8dae-4640-acef-cb3c36d99109",
   "metadata": {},
   "outputs": [],
   "source": [
    "def query_llm(messages):\n",
    "    response = openai.ChatCompletion.create(\n",
    "        model=\"gpt-3.5-turbo\",\n",
    "        messages=messages,\n",
    "        temperature=1,\n",
    "        max_tokens=256,\n",
    "        top_p=1,\n",
    "        frequency_penalty=0,\n",
    "        presence_penalty=0\n",
    "    )\n",
    "    \n",
    "    return response"
   ]
  },
  {
   "cell_type": "code",
   "execution_count": null,
   "id": "604243a4-f72d-49bd-9a2e-878a428f23c1",
   "metadata": {},
   "outputs": [],
   "source": [
    "SYSTEM_MESSAGE = {\n",
    "      \"role\": \"system\",\n",
    "      \"content\": \"\"\n",
    "    }\n"
   ]
  },
  {
   "cell_type": "code",
   "execution_count": null,
   "id": "edaac352-9d68-4952-a20c-0bc637368528",
   "metadata": {},
   "outputs": [],
   "source": [
    "USER_MESSAGE = {\n",
    "      \"role\": \"user\",\n",
    "      \"content\": \"\"\n",
    "    }"
   ]
  },
  {
   "cell_type": "code",
   "execution_count": null,
   "id": "02966f09-a2f4-4f36-805d-e4bec748761a",
   "metadata": {},
   "outputs": [],
   "source": [
    "response = query_llm(messages=[SYSTEM_MESSAGE, USER_MESSAGE])"
   ]
  },
  {
   "cell_type": "code",
   "execution_count": null,
   "id": "b1d9ef5b-77a0-47b0-8896-22bf14863df3",
   "metadata": {},
   "outputs": [],
   "source": [
    "message_response = response.choices[0].message.content"
   ]
  },
  {
   "cell_type": "code",
   "execution_count": null,
   "id": "e4d39c78-866b-4597-9f35-db5ce29e094d",
   "metadata": {},
   "outputs": [],
   "source": [
    "message_response"
   ]
  },
  {
   "cell_type": "markdown",
   "id": "01ecd8b3-4c5e-4e1c-a7bc-5d0a28a6815a",
   "metadata": {},
   "source": [
    "## TO-DO: Create a conversation where both the user and the assistant are roles played by the bot. \n",
    "\n",
    "Objective: Buy a table from IKEA.\n",
    "\n",
    "Print the conversation as \"Bot 1\" and \"Bot 2\"\n",
    "\n",
    "Hint: Use two message sets, with the system messages describing the two roles - customer and IKEA employee. The output of one set as \"assistant\" goes as input to the other set as \"user\"."
   ]
  },
  {
   "cell_type": "code",
   "execution_count": null,
   "id": "085cc577-0b71-473f-96de-0259a4d6b4d3",
   "metadata": {},
   "outputs": [],
   "source": []
  }
 ],
 "metadata": {
  "kernelspec": {
   "display_name": "Python 3 (ipykernel)",
   "language": "python",
   "name": "python3"
  },
  "language_info": {
   "codemirror_mode": {
    "name": "ipython",
    "version": 3
   },
   "file_extension": ".py",
   "mimetype": "text/x-python",
   "name": "python",
   "nbconvert_exporter": "python",
   "pygments_lexer": "ipython3",
   "version": "3.11.0"
  }
 },
 "nbformat": 4,
 "nbformat_minor": 5
}
