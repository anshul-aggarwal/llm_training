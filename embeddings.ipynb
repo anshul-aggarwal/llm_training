{
 "cells": [
  {
   "cell_type": "markdown",
   "id": "8ab9c403-9242-435b-b114-a34ab26c7f35",
   "metadata": {},
   "source": [
    "# Embeddings"
   ]
  },
  {
   "cell_type": "code",
   "execution_count": null,
   "id": "08ffe5f2-ccc7-4222-ab0d-fe6e2c0a28ed",
   "metadata": {},
   "outputs": [],
   "source": [
    "from sentence_transformers import SentenceTransformer, util"
   ]
  },
  {
   "cell_type": "code",
   "execution_count": null,
   "id": "607b5700-042f-4340-aa8e-ca66e3d418e4",
   "metadata": {},
   "outputs": [],
   "source": [
    "model = SentenceTransformer('all-MiniLM-L6-v2')"
   ]
  },
  {
   "cell_type": "code",
   "execution_count": null,
   "id": "8fe6285a-6195-4dc0-af68-5f49a9618c84",
   "metadata": {},
   "outputs": [],
   "source": [
    "#Sentences we want to encode. Example:\n",
    "sentence_1 = ['It is cloudy outside']"
   ]
  },
  {
   "cell_type": "code",
   "execution_count": null,
   "id": "36684934-b18d-435c-9fb2-240faa33b848",
   "metadata": {},
   "outputs": [],
   "source": [
    "#Sentences are encoded by calling model.encode()\n",
    "embedding_1 = model.encode(sentence_1)"
   ]
  },
  {
   "cell_type": "code",
   "execution_count": null,
   "id": "90d22fc3-4b32-44df-9523-a88dd1c00177",
   "metadata": {},
   "outputs": [],
   "source": [
    "embedding_1"
   ]
  },
  {
   "cell_type": "code",
   "execution_count": null,
   "id": "b3b5995e-7014-4ff6-83f6-f131a6b87e73",
   "metadata": {},
   "outputs": [],
   "source": [
    "embedding_1.shape"
   ]
  },
  {
   "cell_type": "code",
   "execution_count": null,
   "id": "ca29548c-59b2-41c7-9f12-2f29e98ec2f5",
   "metadata": {},
   "outputs": [],
   "source": [
    "sentence_2 = ['The weather is wet']\n",
    "sentence_3 = ['I like dogs']"
   ]
  },
  {
   "cell_type": "code",
   "execution_count": null,
   "id": "d1a0e067-dfa7-4bc8-a585-e6adf103fa3a",
   "metadata": {},
   "outputs": [],
   "source": [
    "embedding_2 = model.encode(sentence_2)\n",
    "embedding_3 = model.encode(sentence_3)"
   ]
  },
  {
   "cell_type": "code",
   "execution_count": null,
   "id": "beb8c93a-e97f-4cff-803b-005f16c08cff",
   "metadata": {},
   "outputs": [],
   "source": [
    "print(util.cos_sim(embedding_1, embedding_2))\n",
    "print(util.cos_sim(embedding_1, embedding_3))\n",
    "print(util.cos_sim(embedding_2, embedding_3))"
   ]
  },
  {
   "cell_type": "markdown",
   "id": "7fa13d49-2a99-4005-9af5-04449c611a16",
   "metadata": {},
   "source": [
    "## TO-DO: Calculate the similarity matrix for the above three sentences, in 2 lines of code.\n",
    "\n",
    "Hint:\n",
    "\n",
    "- The `model.encode` function can take a list of sentences as input\n",
    "- You can pass two embedding vector sets into `util.cos_sim`, not just pairs of embedding vectors"
   ]
  },
  {
   "cell_type": "code",
   "execution_count": null,
   "id": "0a96cf5e-a73b-4f53-8e0e-9ea1e01159c0",
   "metadata": {},
   "outputs": [],
   "source": []
  },
  {
   "cell_type": "code",
   "execution_count": null,
   "id": "8e81d3b3-3faf-4564-9800-2d68093fa784",
   "metadata": {},
   "outputs": [],
   "source": []
  }
 ],
 "metadata": {
  "kernelspec": {
   "display_name": "Python 3 (ipykernel)",
   "language": "python",
   "name": "python3"
  },
  "language_info": {
   "codemirror_mode": {
    "name": "ipython",
    "version": 3
   },
   "file_extension": ".py",
   "mimetype": "text/x-python",
   "name": "python",
   "nbconvert_exporter": "python",
   "pygments_lexer": "ipython3",
   "version": "3.11.0"
  }
 },
 "nbformat": 4,
 "nbformat_minor": 5
}
